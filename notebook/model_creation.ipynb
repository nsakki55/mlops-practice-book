{
 "cells": [
  {
   "cell_type": "code",
   "execution_count": 1,
   "id": "1753b4a324e489a9",
   "metadata": {
    "ExecuteTime": {
     "end_time": "2024-12-28T07:52:35.664154Z",
     "start_time": "2024-12-28T07:52:35.565768Z"
    }
   },
   "outputs": [],
   "source": [
    "import matplotlib.pyplot as plt\n",
    "import numpy as np\n",
    "import optuna\n",
    "import pandas as pd\n",
    "import seaborn as sns\n",
    "from sklearn.feature_extraction import FeatureHasher\n",
    "from sklearn.linear_model import SGDClassifier\n",
    "from sklearn.metrics import (\n",
    "    log_loss,\n",
    "    roc_auc_score,\n",
    "    roc_curve,\n",
    ")\n",
    "from sklearn.model_selection import train_test_split"
   ]
  },
  {
   "cell_type": "markdown",
   "id": "b46b820975ba06fa",
   "metadata": {},
   "source": [
    "## Load Dataset"
   ]
  },
  {
   "cell_type": "code",
   "execution_count": 3,
   "id": "initial_id",
   "metadata": {
    "ExecuteTime": {
     "end_time": "2024-12-28T07:52:36.549435Z",
     "start_time": "2024-12-28T07:52:35.744239Z"
    }
   },
   "outputs": [],
   "source": [
    "df_impression_log = pd.read_csv(\"../data/train/impression_log/impression_log.csv\")\n",
    "df_view_log = pd.read_csv(\"../data/train/view_log/view_log.csv\")\n",
    "df_item = pd.read_csv(\"../data/train/mst_item/mst_item.csv\")"
   ]
  },
  {
   "cell_type": "code",
   "execution_count": 4,
   "id": "2633b9b81a59f8c3",
   "metadata": {
    "ExecuteTime": {
     "end_time": "2024-12-28T07:52:36.625314Z",
     "start_time": "2024-12-28T07:52:36.616822Z"
    }
   },
   "outputs": [
    {
     "data": {
      "text/html": [
       "<div>\n",
       "<style scoped>\n",
       "    .dataframe tbody tr th:only-of-type {\n",
       "        vertical-align: middle;\n",
       "    }\n",
       "\n",
       "    .dataframe tbody tr th {\n",
       "        vertical-align: top;\n",
       "    }\n",
       "\n",
       "    .dataframe thead th {\n",
       "        text-align: right;\n",
       "    }\n",
       "</style>\n",
       "<table border=\"1\" class=\"dataframe\">\n",
       "  <thead>\n",
       "    <tr style=\"text-align: right;\">\n",
       "      <th></th>\n",
       "      <th>impression_id</th>\n",
       "      <th>logged_at</th>\n",
       "      <th>user_id</th>\n",
       "      <th>app_code</th>\n",
       "      <th>os_version</th>\n",
       "      <th>is_4G</th>\n",
       "      <th>is_click</th>\n",
       "    </tr>\n",
       "  </thead>\n",
       "  <tbody>\n",
       "    <tr>\n",
       "      <th>0</th>\n",
       "      <td>c4ca4238a0b923820dcc509a6f75849b</td>\n",
       "      <td>2018-11-15 00:00:00</td>\n",
       "      <td>87862</td>\n",
       "      <td>422</td>\n",
       "      <td>old</td>\n",
       "      <td>0</td>\n",
       "      <td>0</td>\n",
       "    </tr>\n",
       "    <tr>\n",
       "      <th>1</th>\n",
       "      <td>45c48cce2e2d7fbdea1afc51c7c6ad26</td>\n",
       "      <td>2018-11-15 00:01:00</td>\n",
       "      <td>63410</td>\n",
       "      <td>467</td>\n",
       "      <td>latest</td>\n",
       "      <td>1</td>\n",
       "      <td>1</td>\n",
       "    </tr>\n",
       "    <tr>\n",
       "      <th>2</th>\n",
       "      <td>70efdf2ec9b086079795c442636b55fb</td>\n",
       "      <td>2018-11-15 00:02:00</td>\n",
       "      <td>71748</td>\n",
       "      <td>259</td>\n",
       "      <td>intermediate</td>\n",
       "      <td>1</td>\n",
       "      <td>0</td>\n",
       "    </tr>\n",
       "    <tr>\n",
       "      <th>3</th>\n",
       "      <td>8e296a067a37563370ded05f5a3bf3ec</td>\n",
       "      <td>2018-11-15 00:02:00</td>\n",
       "      <td>69209</td>\n",
       "      <td>244</td>\n",
       "      <td>latest</td>\n",
       "      <td>1</td>\n",
       "      <td>0</td>\n",
       "    </tr>\n",
       "    <tr>\n",
       "      <th>4</th>\n",
       "      <td>182be0c5cdcd5072bb1864cdee4d3d6e</td>\n",
       "      <td>2018-11-15 00:02:00</td>\n",
       "      <td>62873</td>\n",
       "      <td>473</td>\n",
       "      <td>latest</td>\n",
       "      <td>0</td>\n",
       "      <td>0</td>\n",
       "    </tr>\n",
       "  </tbody>\n",
       "</table>\n",
       "</div>"
      ],
      "text/plain": [
       "                      impression_id            logged_at  user_id  app_code  \\\n",
       "0  c4ca4238a0b923820dcc509a6f75849b  2018-11-15 00:00:00    87862       422   \n",
       "1  45c48cce2e2d7fbdea1afc51c7c6ad26  2018-11-15 00:01:00    63410       467   \n",
       "2  70efdf2ec9b086079795c442636b55fb  2018-11-15 00:02:00    71748       259   \n",
       "3  8e296a067a37563370ded05f5a3bf3ec  2018-11-15 00:02:00    69209       244   \n",
       "4  182be0c5cdcd5072bb1864cdee4d3d6e  2018-11-15 00:02:00    62873       473   \n",
       "\n",
       "     os_version  is_4G  is_click  \n",
       "0           old      0         0  \n",
       "1        latest      1         1  \n",
       "2  intermediate      1         0  \n",
       "3        latest      1         0  \n",
       "4        latest      0         0  "
      ]
     },
     "execution_count": 4,
     "metadata": {},
     "output_type": "execute_result"
    }
   ],
   "source": [
    "df_impression_log.head()"
   ]
  },
  {
   "cell_type": "code",
   "execution_count": 5,
   "id": "1e71febe9a490132",
   "metadata": {
    "ExecuteTime": {
     "end_time": "2024-12-28T07:52:36.708497Z",
     "start_time": "2024-12-28T07:52:36.705457Z"
    }
   },
   "outputs": [
    {
     "data": {
      "text/html": [
       "<div>\n",
       "<style scoped>\n",
       "    .dataframe tbody tr th:only-of-type {\n",
       "        vertical-align: middle;\n",
       "    }\n",
       "\n",
       "    .dataframe tbody tr th {\n",
       "        vertical-align: top;\n",
       "    }\n",
       "\n",
       "    .dataframe thead th {\n",
       "        text-align: right;\n",
       "    }\n",
       "</style>\n",
       "<table border=\"1\" class=\"dataframe\">\n",
       "  <thead>\n",
       "    <tr style=\"text-align: right;\">\n",
       "      <th></th>\n",
       "      <th>logged_at</th>\n",
       "      <th>device_type</th>\n",
       "      <th>session_id</th>\n",
       "      <th>user_id</th>\n",
       "      <th>item_id</th>\n",
       "    </tr>\n",
       "  </thead>\n",
       "  <tbody>\n",
       "    <tr>\n",
       "      <th>0</th>\n",
       "      <td>2018-10-15 08:58:00</td>\n",
       "      <td>android</td>\n",
       "      <td>112333</td>\n",
       "      <td>4557</td>\n",
       "      <td>32970</td>\n",
       "    </tr>\n",
       "    <tr>\n",
       "      <th>1</th>\n",
       "      <td>2018-10-15 08:58:00</td>\n",
       "      <td>android</td>\n",
       "      <td>503590</td>\n",
       "      <td>74788</td>\n",
       "      <td>7640</td>\n",
       "    </tr>\n",
       "    <tr>\n",
       "      <th>2</th>\n",
       "      <td>2018-10-15 08:58:00</td>\n",
       "      <td>android</td>\n",
       "      <td>573960</td>\n",
       "      <td>23628</td>\n",
       "      <td>128855</td>\n",
       "    </tr>\n",
       "    <tr>\n",
       "      <th>3</th>\n",
       "      <td>2018-10-15 08:58:00</td>\n",
       "      <td>android</td>\n",
       "      <td>121691</td>\n",
       "      <td>2430</td>\n",
       "      <td>12774</td>\n",
       "    </tr>\n",
       "    <tr>\n",
       "      <th>4</th>\n",
       "      <td>2018-10-15 08:58:00</td>\n",
       "      <td>android</td>\n",
       "      <td>218564</td>\n",
       "      <td>19227</td>\n",
       "      <td>28296</td>\n",
       "    </tr>\n",
       "  </tbody>\n",
       "</table>\n",
       "</div>"
      ],
      "text/plain": [
       "             logged_at device_type  session_id  user_id  item_id\n",
       "0  2018-10-15 08:58:00     android      112333     4557    32970\n",
       "1  2018-10-15 08:58:00     android      503590    74788     7640\n",
       "2  2018-10-15 08:58:00     android      573960    23628   128855\n",
       "3  2018-10-15 08:58:00     android      121691     2430    12774\n",
       "4  2018-10-15 08:58:00     android      218564    19227    28296"
      ]
     },
     "execution_count": 5,
     "metadata": {},
     "output_type": "execute_result"
    }
   ],
   "source": [
    "df_view_log.head()"
   ]
  },
  {
   "cell_type": "code",
   "execution_count": 6,
   "id": "0ec45267-7266-4881-817c-49ec8ee56164",
   "metadata": {},
   "outputs": [
    {
     "data": {
      "text/html": [
       "<div>\n",
       "<style scoped>\n",
       "    .dataframe tbody tr th:only-of-type {\n",
       "        vertical-align: middle;\n",
       "    }\n",
       "\n",
       "    .dataframe tbody tr th {\n",
       "        vertical-align: top;\n",
       "    }\n",
       "\n",
       "    .dataframe thead th {\n",
       "        text-align: right;\n",
       "    }\n",
       "</style>\n",
       "<table border=\"1\" class=\"dataframe\">\n",
       "  <thead>\n",
       "    <tr style=\"text-align: right;\">\n",
       "      <th></th>\n",
       "      <th>item_id</th>\n",
       "      <th>item_price</th>\n",
       "      <th>category_1</th>\n",
       "      <th>category_2</th>\n",
       "      <th>category_3</th>\n",
       "      <th>product_type</th>\n",
       "    </tr>\n",
       "  </thead>\n",
       "  <tbody>\n",
       "    <tr>\n",
       "      <th>0</th>\n",
       "      <td>26880</td>\n",
       "      <td>4602</td>\n",
       "      <td>11</td>\n",
       "      <td>35</td>\n",
       "      <td>20</td>\n",
       "      <td>3040</td>\n",
       "    </tr>\n",
       "    <tr>\n",
       "      <th>1</th>\n",
       "      <td>54939</td>\n",
       "      <td>3513</td>\n",
       "      <td>12</td>\n",
       "      <td>57</td>\n",
       "      <td>85</td>\n",
       "      <td>6822</td>\n",
       "    </tr>\n",
       "    <tr>\n",
       "      <th>2</th>\n",
       "      <td>40383</td>\n",
       "      <td>825</td>\n",
       "      <td>17</td>\n",
       "      <td>8</td>\n",
       "      <td>279</td>\n",
       "      <td>1619</td>\n",
       "    </tr>\n",
       "    <tr>\n",
       "      <th>3</th>\n",
       "      <td>8777</td>\n",
       "      <td>2355</td>\n",
       "      <td>13</td>\n",
       "      <td>58</td>\n",
       "      <td>189</td>\n",
       "      <td>5264</td>\n",
       "    </tr>\n",
       "    <tr>\n",
       "      <th>4</th>\n",
       "      <td>113705</td>\n",
       "      <td>1267</td>\n",
       "      <td>17</td>\n",
       "      <td>39</td>\n",
       "      <td>151</td>\n",
       "      <td>10239</td>\n",
       "    </tr>\n",
       "  </tbody>\n",
       "</table>\n",
       "</div>"
      ],
      "text/plain": [
       "   item_id  item_price  category_1  category_2  category_3  product_type\n",
       "0    26880        4602          11          35          20          3040\n",
       "1    54939        3513          12          57          85          6822\n",
       "2    40383         825          17           8         279          1619\n",
       "3     8777        2355          13          58         189          5264\n",
       "4   113705        1267          17          39         151         10239"
      ]
     },
     "execution_count": 6,
     "metadata": {},
     "output_type": "execute_result"
    }
   ],
   "source": [
    "df_item.head()"
   ]
  },
  {
   "cell_type": "code",
   "execution_count": 7,
   "id": "ffedfe234ebba45e",
   "metadata": {
    "ExecuteTime": {
     "end_time": "2024-12-28T07:52:36.813471Z",
     "start_time": "2024-12-28T07:52:36.811702Z"
    }
   },
   "outputs": [
    {
     "name": "stdout",
     "output_type": "stream",
     "text": [
      "df_impression shape: (237609, 7)\n",
      "df_view_log shape: (3118622, 5)\n",
      "df_item shape: (132761, 6)\n"
     ]
    }
   ],
   "source": [
    "print(f\"df_impression shape: {df_impression_log.shape}\")\n",
    "print(f\"df_view_log shape: {df_view_log.shape}\")\n",
    "print(f\"df_item shape: {df_item.shape}\")"
   ]
  },
  {
   "cell_type": "code",
   "execution_count": 8,
   "id": "2639c7eec713c674",
   "metadata": {
    "ExecuteTime": {
     "end_time": "2024-12-28T07:52:36.980154Z",
     "start_time": "2024-12-28T07:52:36.964054Z"
    }
   },
   "outputs": [
    {
     "name": "stdout",
     "output_type": "stream",
     "text": [
      "<class 'pandas.core.frame.DataFrame'>\n",
      "RangeIndex: 237609 entries, 0 to 237608\n",
      "Data columns (total 7 columns):\n",
      " #   Column         Non-Null Count   Dtype \n",
      "---  ------         --------------   ----- \n",
      " 0   impression_id  237609 non-null  object\n",
      " 1   logged_at      237609 non-null  object\n",
      " 2   user_id        237609 non-null  int64 \n",
      " 3   app_code       237609 non-null  int64 \n",
      " 4   os_version     237609 non-null  object\n",
      " 5   is_4G          237609 non-null  int64 \n",
      " 6   is_click       237609 non-null  int64 \n",
      "dtypes: int64(4), object(3)\n",
      "memory usage: 12.7+ MB\n"
     ]
    }
   ],
   "source": [
    "df_impression_log.info()"
   ]
  },
  {
   "cell_type": "code",
   "execution_count": 9,
   "id": "c081f65bfa62d58e",
   "metadata": {
    "ExecuteTime": {
     "end_time": "2024-12-28T07:52:39.412265Z",
     "start_time": "2024-12-28T07:52:39.408291Z"
    }
   },
   "outputs": [
    {
     "name": "stdout",
     "output_type": "stream",
     "text": [
      "<class 'pandas.core.frame.DataFrame'>\n",
      "RangeIndex: 132761 entries, 0 to 132760\n",
      "Data columns (total 6 columns):\n",
      " #   Column        Non-Null Count   Dtype\n",
      "---  ------        --------------   -----\n",
      " 0   item_id       132761 non-null  int64\n",
      " 1   item_price    132761 non-null  int64\n",
      " 2   category_1    132761 non-null  int64\n",
      " 3   category_2    132761 non-null  int64\n",
      " 4   category_3    132761 non-null  int64\n",
      " 5   product_type  132761 non-null  int64\n",
      "dtypes: int64(6)\n",
      "memory usage: 6.1 MB\n"
     ]
    }
   ],
   "source": [
    "df_item.info()"
   ]
  },
  {
   "cell_type": "code",
   "execution_count": 9,
   "id": "ffd30a80-bfa7-4662-afc5-8f31455fd852",
   "metadata": {
    "scrolled": true
   },
   "outputs": [
    {
     "name": "stdout",
     "output_type": "stream",
     "text": [
      "<class 'pandas.core.frame.DataFrame'>\n",
      "RangeIndex: 3118622 entries, 0 to 3118621\n",
      "Data columns (total 5 columns):\n",
      " #   Column       Dtype \n",
      "---  ------       ----- \n",
      " 0   logged_at    object\n",
      " 1   device_type  object\n",
      " 2   session_id   int64 \n",
      " 3   user_id      int64 \n",
      " 4   item_id      int64 \n",
      "dtypes: int64(3), object(2)\n",
      "memory usage: 119.0+ MB\n"
     ]
    }
   ],
   "source": [
    "df_view_log.info()"
   ]
  },
  {
   "cell_type": "markdown",
   "id": "53ddc725b55afcd3",
   "metadata": {},
   "source": [
    "## Preprocess Dataset"
   ]
  },
  {
   "cell_type": "code",
   "execution_count": 14,
   "id": "c894df7f98e466d8",
   "metadata": {
    "ExecuteTime": {
     "end_time": "2024-12-28T07:52:39.928138Z",
     "start_time": "2024-12-28T07:52:39.719747Z"
    }
   },
   "outputs": [],
   "source": [
    "# preprocess code reference: https://www.kaggle.com/code/annatrofy/context-ad-clicks-machine-learning-algorithms\n",
    "LOOKBACK_DAYS = 7\n",
    "\n",
    "df_impression_log[\"logged_at\"] = pd.to_datetime(df_impression_log[\"logged_at\"])\n",
    "df_view_log[\"logged_at\"] = pd.to_datetime(df_view_log[\"logged_at\"])"
   ]
  },
  {
   "cell_type": "code",
   "execution_count": 15,
   "id": "8ea0850d1abf5f18",
   "metadata": {
    "ExecuteTime": {
     "end_time": "2024-12-28T07:52:39.940077Z",
     "start_time": "2024-12-28T07:52:39.936971Z"
    }
   },
   "outputs": [],
   "source": [
    "LOOKBACK_DAYS = 7\n",
    "\n",
    "def get_impression_history_feature(df_impression_log: pd.DataFrame, lookback_days: int = LOOKBACK_DAYS) -> pd.DataFrame:\n",
    "    \"\"\"\n",
    "    ユーザーごとのloockback_days日以内の広告表示回数を追加する。\n",
    "    \"\"\"\n",
    "    df_impression_history = df_impression_log.merge(df_impression_log, how=\"left\", on=\"user_id\",\n",
    "                                                    suffixes=(\"\", \"_previous\"))\n",
    "\n",
    "    df_impression_history[\"days_between_impressions\"] = (\n",
    "            df_impression_history[\"logged_at\"] - df_impression_history[\"logged_at_previous\"]\n",
    "    ).dt.days\n",
    "\n",
    "    df_impression_history = df_impression_history.query(\n",
    "        f\"(logged_at_previous < logged_at) and (days_between_impressions <= {lookback_days})\"\n",
    "    )\n",
    "\n",
    "    df_impression_history_feature = (\n",
    "        df_impression_history.groupby(\"impression_id\")[\"impression_id_previous\"]\n",
    "        .count()\n",
    "        .reset_index(name=\"previous_impression_count\")\n",
    "    )\n",
    "    return df_impression_history_feature"
   ]
  },
  {
   "cell_type": "code",
   "execution_count": 16,
   "id": "998a823b9061d4ab",
   "metadata": {
    "ExecuteTime": {
     "end_time": "2024-12-28T07:52:40.029519Z",
     "start_time": "2024-12-28T07:52:40.027266Z"
    }
   },
   "outputs": [],
   "source": [
    "def get_view_history_feature(\n",
    "    df_impression_log: pd.DataFrame,\n",
    "    df_view_log: pd.DataFrame,\n",
    "    lookback_days: int = LOOKBACK_DAYS,\n",
    ") -> pd.DataFrame:\n",
    "    df_view_log_drop_duplicated = df_view_log.drop_duplicates(subset=[\"user_id\", \"logged_at\"], keep=\"last\")\n",
    "    df_view_history = df_impression_log.merge(\n",
    "        df_view_log_drop_duplicated,\n",
    "        how=\"left\",\n",
    "        on=\"user_id\",\n",
    "        suffixes=(\"_impression\", \"_view\"),\n",
    "    )\n",
    "\n",
    "    df_view_history[\"days_between_impression_and_session\"] = (\n",
    "            df_view_history[\"logged_at_impression\"] - df_view_history[\"logged_at_view\"]\n",
    "    ).dt.days\n",
    "\n",
    "    df_view_history = df_view_history.query(\n",
    "        f\"(logged_at_view < logged_at_impression) and (days_between_impression_and_session <= {lookback_days})\"\n",
    "    )\n",
    "\n",
    "    df_view_history_features = (\n",
    "        df_view_history.groupby(\n",
    "            [\n",
    "                \"impression_id\",\n",
    "            ]\n",
    "        )\n",
    "        .agg(\n",
    "            previous_view_count=(\"logged_at_view\", \"count\"),\n",
    "            item_id=(\"item_id\", \"last\"),\n",
    "            device_type=(\"device_type\", \"last\"),\n",
    "        )\n",
    "        .reset_index()\n",
    "    )\n",
    "    return df_view_history_features"
   ]
  },
  {
   "cell_type": "code",
   "execution_count": 17,
   "id": "92ec824ce1128b85",
   "metadata": {
    "ExecuteTime": {
     "end_time": "2024-12-28T07:52:41.620714Z",
     "start_time": "2024-12-28T07:52:41.618756Z"
    }
   },
   "outputs": [],
   "source": [
    "def get_impression_time_feature(df_impression_log: pd.DataFrame) -> pd.DataFrame:\n",
    "    df_impression_time_feature = pd.DataFrame(\n",
    "        {\n",
    "            \"impression_id\": df_impression_log[\"impression_id\"],\n",
    "            \"impression_hour\": df_impression_log[\"logged_at\"].dt.hour,\n",
    "            \"impression_day\": df_impression_log[\"logged_at\"].dt.day,\n",
    "            \"impression_weekday\": df_impression_log[\"logged_at\"].dt.weekday,\n",
    "        }\n",
    "    )\n",
    "    return df_impression_time_feature"
   ]
  },
  {
   "cell_type": "code",
   "execution_count": 18,
   "id": "52b05f8f0220bca2",
   "metadata": {
    "ExecuteTime": {
     "end_time": "2024-12-28T07:52:43.911801Z",
     "start_time": "2024-12-28T07:52:41.768090Z"
    }
   },
   "outputs": [],
   "source": [
    "df_impression_history_feature = get_impression_history_feature(df_impression_log)\n",
    "df_view_history_feature = get_view_history_feature(df_impression_log, df_view_log)\n",
    "df_impression_time_feature = get_impression_time_feature(df_impression_log)"
   ]
  },
  {
   "cell_type": "code",
   "execution_count": 20,
   "id": "6715d885187dbb64",
   "metadata": {
    "ExecuteTime": {
     "end_time": "2024-12-28T07:52:44.063800Z",
     "start_time": "2024-12-28T07:52:43.919955Z"
    }
   },
   "outputs": [],
   "source": [
    "df_train = df_impression_log.merge(df_impression_history_feature, how=\"left\", on=\"impression_id\")\n",
    "df_train = df_train.merge(df_view_history_feature, how=\"left\", on=\"impression_id\")\n",
    "df_train = df_train.merge(df_impression_time_feature, how=\"left\", on=\"impression_id\")\n",
    "df_train = df_train.merge(df_item, how=\"left\", on=\"item_id\")"
   ]
  },
  {
   "cell_type": "code",
   "execution_count": 24,
   "id": "2e845f61e3f18fa1",
   "metadata": {
    "ExecuteTime": {
     "end_time": "2024-12-28T07:52:44.090063Z",
     "start_time": "2024-12-28T07:52:44.073835Z"
    }
   },
   "outputs": [],
   "source": [
    "df_train[\"previous_impression_count\"] = df_train[\"previous_impression_count\"].fillna(0)\n",
    "df_train[\"previous_view_count\"] = df_train[\"previous_view_count\"].fillna(-1)\n",
    "df_train[\"impression_hour\"] = df_train[\"impression_hour\"].fillna(-1)\n",
    "df_train[\"impression_day\"] = df_train[\"impression_day\"].fillna(-1)\n",
    "df_train[\"impression_weekday\"] = df_train[\"impression_weekday\"].fillna(-1)\n",
    "df_train[\"item_id\"] = df_train[\"item_id\"].fillna(-1)\n",
    "df_train[\"device_type\"] = df_train[\"device_type\"].fillna(\"null\")\n",
    "df_train[\"item_price\"] = df_train[\"item_price\"].fillna(-1)\n",
    "df_train[\"category_1\"] = df_train[\"category_1\"].fillna(-1)\n",
    "df_train[\"category_2\"] = df_train[\"category_2\"].fillna(-1)\n",
    "df_train[\"category_3\"] = df_train[\"category_3\"].fillna(-1)\n",
    "df_train[\"product_type\"] = df_train[\"product_type\"].fillna(-1)"
   ]
  },
  {
   "cell_type": "code",
   "execution_count": 25,
   "id": "4dd1fcf09fe4b755",
   "metadata": {
    "ExecuteTime": {
     "end_time": "2024-12-28T07:52:44.107724Z",
     "start_time": "2024-12-28T07:52:44.100437Z"
    }
   },
   "outputs": [],
   "source": [
    "df_train[\"previous_impression_count\"] = df_train[\"previous_impression_count\"].astype(\"int\")\n",
    "df_train[\"previous_view_count\"] = df_train[\"previous_view_count\"].astype(\"int\")\n",
    "df_train[\"impression_hour\"] = df_train[\"impression_hour\"].astype(\"int\")\n",
    "df_train[\"impression_day\"] = df_train[\"impression_day\"].astype(\"int\")\n",
    "df_train[\"impression_weekday\"] = df_train[\"impression_weekday\"].astype(\"int\")\n",
    "df_train[\"item_id\"] = df_train[\"item_id\"].astype(\"int\")\n",
    "df_train[\"category_1\"] = df_train[\"category_1\"].astype(\"int\")\n",
    "df_train[\"category_2\"] = df_train[\"category_2\"].astype(\"int\")\n",
    "df_train[\"category_3\"] = df_train[\"category_3\"].astype(\"int\")\n",
    "df_train[\"product_type\"] = df_train[\"product_type\"].astype(\"int\")"
   ]
  },
  {
   "cell_type": "code",
   "execution_count": 26,
   "id": "4ebed7d9ff015983",
   "metadata": {
    "ExecuteTime": {
     "end_time": "2024-12-28T07:52:44.122991Z",
     "start_time": "2024-12-28T07:52:44.117485Z"
    }
   },
   "outputs": [
    {
     "data": {
      "text/html": [
       "<div>\n",
       "<style scoped>\n",
       "    .dataframe tbody tr th:only-of-type {\n",
       "        vertical-align: middle;\n",
       "    }\n",
       "\n",
       "    .dataframe tbody tr th {\n",
       "        vertical-align: top;\n",
       "    }\n",
       "\n",
       "    .dataframe thead th {\n",
       "        text-align: right;\n",
       "    }\n",
       "</style>\n",
       "<table border=\"1\" class=\"dataframe\">\n",
       "  <thead>\n",
       "    <tr style=\"text-align: right;\">\n",
       "      <th></th>\n",
       "      <th>impression_id</th>\n",
       "      <th>logged_at</th>\n",
       "      <th>user_id</th>\n",
       "      <th>app_code</th>\n",
       "      <th>os_version</th>\n",
       "      <th>is_4G</th>\n",
       "      <th>is_click</th>\n",
       "      <th>previous_impression_count</th>\n",
       "      <th>previous_view_count</th>\n",
       "      <th>item_id</th>\n",
       "      <th>device_type</th>\n",
       "      <th>impression_hour</th>\n",
       "      <th>impression_day</th>\n",
       "      <th>impression_weekday</th>\n",
       "      <th>item_price</th>\n",
       "      <th>category_1</th>\n",
       "      <th>category_2</th>\n",
       "      <th>category_3</th>\n",
       "      <th>product_type</th>\n",
       "    </tr>\n",
       "  </thead>\n",
       "  <tbody>\n",
       "    <tr>\n",
       "      <th>0</th>\n",
       "      <td>c4ca4238a0b923820dcc509a6f75849b</td>\n",
       "      <td>2018-11-15 00:00:00</td>\n",
       "      <td>87862</td>\n",
       "      <td>422</td>\n",
       "      <td>old</td>\n",
       "      <td>0</td>\n",
       "      <td>0</td>\n",
       "      <td>0</td>\n",
       "      <td>-1</td>\n",
       "      <td>-1</td>\n",
       "      <td>null</td>\n",
       "      <td>0</td>\n",
       "      <td>15</td>\n",
       "      <td>3</td>\n",
       "      <td>-1.0</td>\n",
       "      <td>-1</td>\n",
       "      <td>-1</td>\n",
       "      <td>-1</td>\n",
       "      <td>-1</td>\n",
       "    </tr>\n",
       "    <tr>\n",
       "      <th>1</th>\n",
       "      <td>45c48cce2e2d7fbdea1afc51c7c6ad26</td>\n",
       "      <td>2018-11-15 00:01:00</td>\n",
       "      <td>63410</td>\n",
       "      <td>467</td>\n",
       "      <td>latest</td>\n",
       "      <td>1</td>\n",
       "      <td>1</td>\n",
       "      <td>0</td>\n",
       "      <td>-1</td>\n",
       "      <td>-1</td>\n",
       "      <td>null</td>\n",
       "      <td>0</td>\n",
       "      <td>15</td>\n",
       "      <td>3</td>\n",
       "      <td>-1.0</td>\n",
       "      <td>-1</td>\n",
       "      <td>-1</td>\n",
       "      <td>-1</td>\n",
       "      <td>-1</td>\n",
       "    </tr>\n",
       "    <tr>\n",
       "      <th>2</th>\n",
       "      <td>70efdf2ec9b086079795c442636b55fb</td>\n",
       "      <td>2018-11-15 00:02:00</td>\n",
       "      <td>71748</td>\n",
       "      <td>259</td>\n",
       "      <td>intermediate</td>\n",
       "      <td>1</td>\n",
       "      <td>0</td>\n",
       "      <td>0</td>\n",
       "      <td>-1</td>\n",
       "      <td>-1</td>\n",
       "      <td>null</td>\n",
       "      <td>0</td>\n",
       "      <td>15</td>\n",
       "      <td>3</td>\n",
       "      <td>-1.0</td>\n",
       "      <td>-1</td>\n",
       "      <td>-1</td>\n",
       "      <td>-1</td>\n",
       "      <td>-1</td>\n",
       "    </tr>\n",
       "    <tr>\n",
       "      <th>3</th>\n",
       "      <td>8e296a067a37563370ded05f5a3bf3ec</td>\n",
       "      <td>2018-11-15 00:02:00</td>\n",
       "      <td>69209</td>\n",
       "      <td>244</td>\n",
       "      <td>latest</td>\n",
       "      <td>1</td>\n",
       "      <td>0</td>\n",
       "      <td>0</td>\n",
       "      <td>9</td>\n",
       "      <td>104035</td>\n",
       "      <td>android</td>\n",
       "      <td>0</td>\n",
       "      <td>15</td>\n",
       "      <td>3</td>\n",
       "      <td>819.0</td>\n",
       "      <td>8</td>\n",
       "      <td>21</td>\n",
       "      <td>139</td>\n",
       "      <td>2944</td>\n",
       "    </tr>\n",
       "    <tr>\n",
       "      <th>4</th>\n",
       "      <td>182be0c5cdcd5072bb1864cdee4d3d6e</td>\n",
       "      <td>2018-11-15 00:02:00</td>\n",
       "      <td>62873</td>\n",
       "      <td>473</td>\n",
       "      <td>latest</td>\n",
       "      <td>0</td>\n",
       "      <td>0</td>\n",
       "      <td>0</td>\n",
       "      <td>7</td>\n",
       "      <td>4069</td>\n",
       "      <td>android</td>\n",
       "      <td>0</td>\n",
       "      <td>15</td>\n",
       "      <td>3</td>\n",
       "      <td>4556.0</td>\n",
       "      <td>7</td>\n",
       "      <td>24</td>\n",
       "      <td>100</td>\n",
       "      <td>9215</td>\n",
       "    </tr>\n",
       "    <tr>\n",
       "      <th>...</th>\n",
       "      <td>...</td>\n",
       "      <td>...</td>\n",
       "      <td>...</td>\n",
       "      <td>...</td>\n",
       "      <td>...</td>\n",
       "      <td>...</td>\n",
       "      <td>...</td>\n",
       "      <td>...</td>\n",
       "      <td>...</td>\n",
       "      <td>...</td>\n",
       "      <td>...</td>\n",
       "      <td>...</td>\n",
       "      <td>...</td>\n",
       "      <td>...</td>\n",
       "      <td>...</td>\n",
       "      <td>...</td>\n",
       "      <td>...</td>\n",
       "      <td>...</td>\n",
       "      <td>...</td>\n",
       "    </tr>\n",
       "    <tr>\n",
       "      <th>237604</th>\n",
       "      <td>880e88bf5c86c1b11a2ac7072ebfb932</td>\n",
       "      <td>2018-12-13 07:40:00</td>\n",
       "      <td>17758</td>\n",
       "      <td>207</td>\n",
       "      <td>latest</td>\n",
       "      <td>1</td>\n",
       "      <td>0</td>\n",
       "      <td>1</td>\n",
       "      <td>6</td>\n",
       "      <td>95491</td>\n",
       "      <td>android</td>\n",
       "      <td>7</td>\n",
       "      <td>13</td>\n",
       "      <td>3</td>\n",
       "      <td>6400.0</td>\n",
       "      <td>14</td>\n",
       "      <td>61</td>\n",
       "      <td>132</td>\n",
       "      <td>9842</td>\n",
       "    </tr>\n",
       "    <tr>\n",
       "      <th>237605</th>\n",
       "      <td>3e6bd8cace08e2102dffef3c86d7d793</td>\n",
       "      <td>2018-12-13 07:41:00</td>\n",
       "      <td>26845</td>\n",
       "      <td>207</td>\n",
       "      <td>latest</td>\n",
       "      <td>0</td>\n",
       "      <td>0</td>\n",
       "      <td>0</td>\n",
       "      <td>1</td>\n",
       "      <td>127045</td>\n",
       "      <td>android</td>\n",
       "      <td>7</td>\n",
       "      <td>13</td>\n",
       "      <td>3</td>\n",
       "      <td>21696.0</td>\n",
       "      <td>1</td>\n",
       "      <td>7</td>\n",
       "      <td>308</td>\n",
       "      <td>4986</td>\n",
       "    </tr>\n",
       "    <tr>\n",
       "      <th>237606</th>\n",
       "      <td>8e58582b20ebfacb84fc338bac7cd5ae</td>\n",
       "      <td>2018-12-13 07:42:00</td>\n",
       "      <td>69412</td>\n",
       "      <td>289</td>\n",
       "      <td>old</td>\n",
       "      <td>0</td>\n",
       "      <td>0</td>\n",
       "      <td>0</td>\n",
       "      <td>-1</td>\n",
       "      <td>-1</td>\n",
       "      <td>null</td>\n",
       "      <td>7</td>\n",
       "      <td>13</td>\n",
       "      <td>3</td>\n",
       "      <td>-1.0</td>\n",
       "      <td>-1</td>\n",
       "      <td>-1</td>\n",
       "      <td>-1</td>\n",
       "      <td>-1</td>\n",
       "    </tr>\n",
       "    <tr>\n",
       "      <th>237607</th>\n",
       "      <td>9ccc5e0a6dc7a2f5224890a22defbd00</td>\n",
       "      <td>2018-12-13 07:43:00</td>\n",
       "      <td>19918</td>\n",
       "      <td>385</td>\n",
       "      <td>old</td>\n",
       "      <td>0</td>\n",
       "      <td>1</td>\n",
       "      <td>6</td>\n",
       "      <td>15</td>\n",
       "      <td>4337</td>\n",
       "      <td>android</td>\n",
       "      <td>7</td>\n",
       "      <td>13</td>\n",
       "      <td>3</td>\n",
       "      <td>1280.0</td>\n",
       "      <td>1</td>\n",
       "      <td>12</td>\n",
       "      <td>301</td>\n",
       "      <td>3805</td>\n",
       "    </tr>\n",
       "    <tr>\n",
       "      <th>237608</th>\n",
       "      <td>a68c052cab131719dede538b5466428e</td>\n",
       "      <td>2018-12-13 07:43:00</td>\n",
       "      <td>9647</td>\n",
       "      <td>336</td>\n",
       "      <td>old</td>\n",
       "      <td>1</td>\n",
       "      <td>0</td>\n",
       "      <td>0</td>\n",
       "      <td>5</td>\n",
       "      <td>80104</td>\n",
       "      <td>android</td>\n",
       "      <td>7</td>\n",
       "      <td>13</td>\n",
       "      <td>3</td>\n",
       "      <td>2432.0</td>\n",
       "      <td>0</td>\n",
       "      <td>45</td>\n",
       "      <td>138</td>\n",
       "      <td>5427</td>\n",
       "    </tr>\n",
       "  </tbody>\n",
       "</table>\n",
       "<p>237609 rows × 19 columns</p>\n",
       "</div>"
      ],
      "text/plain": [
       "                           impression_id           logged_at  user_id  \\\n",
       "0       c4ca4238a0b923820dcc509a6f75849b 2018-11-15 00:00:00    87862   \n",
       "1       45c48cce2e2d7fbdea1afc51c7c6ad26 2018-11-15 00:01:00    63410   \n",
       "2       70efdf2ec9b086079795c442636b55fb 2018-11-15 00:02:00    71748   \n",
       "3       8e296a067a37563370ded05f5a3bf3ec 2018-11-15 00:02:00    69209   \n",
       "4       182be0c5cdcd5072bb1864cdee4d3d6e 2018-11-15 00:02:00    62873   \n",
       "...                                  ...                 ...      ...   \n",
       "237604  880e88bf5c86c1b11a2ac7072ebfb932 2018-12-13 07:40:00    17758   \n",
       "237605  3e6bd8cace08e2102dffef3c86d7d793 2018-12-13 07:41:00    26845   \n",
       "237606  8e58582b20ebfacb84fc338bac7cd5ae 2018-12-13 07:42:00    69412   \n",
       "237607  9ccc5e0a6dc7a2f5224890a22defbd00 2018-12-13 07:43:00    19918   \n",
       "237608  a68c052cab131719dede538b5466428e 2018-12-13 07:43:00     9647   \n",
       "\n",
       "        app_code    os_version  is_4G  is_click  previous_impression_count  \\\n",
       "0            422           old      0         0                          0   \n",
       "1            467        latest      1         1                          0   \n",
       "2            259  intermediate      1         0                          0   \n",
       "3            244        latest      1         0                          0   \n",
       "4            473        latest      0         0                          0   \n",
       "...          ...           ...    ...       ...                        ...   \n",
       "237604       207        latest      1         0                          1   \n",
       "237605       207        latest      0         0                          0   \n",
       "237606       289           old      0         0                          0   \n",
       "237607       385           old      0         1                          6   \n",
       "237608       336           old      1         0                          0   \n",
       "\n",
       "        previous_view_count  item_id device_type  impression_hour  \\\n",
       "0                        -1       -1        null                0   \n",
       "1                        -1       -1        null                0   \n",
       "2                        -1       -1        null                0   \n",
       "3                         9   104035     android                0   \n",
       "4                         7     4069     android                0   \n",
       "...                     ...      ...         ...              ...   \n",
       "237604                    6    95491     android                7   \n",
       "237605                    1   127045     android                7   \n",
       "237606                   -1       -1        null                7   \n",
       "237607                   15     4337     android                7   \n",
       "237608                    5    80104     android                7   \n",
       "\n",
       "        impression_day  impression_weekday  item_price  category_1  \\\n",
       "0                   15                   3        -1.0          -1   \n",
       "1                   15                   3        -1.0          -1   \n",
       "2                   15                   3        -1.0          -1   \n",
       "3                   15                   3       819.0           8   \n",
       "4                   15                   3      4556.0           7   \n",
       "...                ...                 ...         ...         ...   \n",
       "237604              13                   3      6400.0          14   \n",
       "237605              13                   3     21696.0           1   \n",
       "237606              13                   3        -1.0          -1   \n",
       "237607              13                   3      1280.0           1   \n",
       "237608              13                   3      2432.0           0   \n",
       "\n",
       "        category_2  category_3  product_type  \n",
       "0               -1          -1            -1  \n",
       "1               -1          -1            -1  \n",
       "2               -1          -1            -1  \n",
       "3               21         139          2944  \n",
       "4               24         100          9215  \n",
       "...            ...         ...           ...  \n",
       "237604          61         132          9842  \n",
       "237605           7         308          4986  \n",
       "237606          -1          -1            -1  \n",
       "237607          12         301          3805  \n",
       "237608          45         138          5427  \n",
       "\n",
       "[237609 rows x 19 columns]"
      ]
     },
     "execution_count": 26,
     "metadata": {},
     "output_type": "execute_result"
    }
   ],
   "source": [
    "df_train"
   ]
  },
  {
   "cell_type": "code",
   "execution_count": 27,
   "id": "89fa488140d711dc",
   "metadata": {
    "ExecuteTime": {
     "end_time": "2024-12-28T07:52:44.152647Z",
     "start_time": "2024-12-28T07:52:44.150954Z"
    }
   },
   "outputs": [],
   "source": [
    "feature_names = [\n",
    "    \"user_id\",\n",
    "    \"app_code\",\n",
    "    \"os_version\",\n",
    "    \"is_4G\",\n",
    "    \"previous_impression_count\",\n",
    "    \"previous_view_count\",\n",
    "    \"impression_hour\",\n",
    "    \"impression_day\",\n",
    "    \"impression_weekday\",\n",
    "    \"item_id\",\n",
    "    \"device_type\",\n",
    "    \"item_price\",\n",
    "    \"category_1\",\n",
    "    \"category_2\",\n",
    "    \"category_3\",\n",
    "    \"product_type\",\n",
    "]\n",
    "\n",
    "target = \"is_click\""
   ]
  },
  {
   "cell_type": "code",
   "execution_count": 28,
   "id": "81f2d2a84b1f21d5",
   "metadata": {
    "ExecuteTime": {
     "end_time": "2024-12-28T07:52:44.228738Z",
     "start_time": "2024-12-28T07:52:44.179534Z"
    }
   },
   "outputs": [],
   "source": [
    "# Sort by impression time to split data based on the impression time\n",
    "df_train = df_train.sort_values(by=\"logged_at\")\n",
    "\n",
    "df_train, df_test = train_test_split(df_train, test_size=0.2, random_state=42, shuffle=False)\n",
    "df_train, df_valid = train_test_split(df_train, test_size=0.1, random_state=42, shuffle=False)"
   ]
  },
  {
   "cell_type": "code",
   "execution_count": 29,
   "id": "e67f7ccdb486f448",
   "metadata": {
    "ExecuteTime": {
     "end_time": "2024-12-28T07:52:44.275173Z",
     "start_time": "2024-12-28T07:52:44.273354Z"
    }
   },
   "outputs": [],
   "source": [
    "def preprocess(df: pd.DataFrame, hash_size: int = 2 ** 18) -> np.ndarray:\n",
    "    feature_hasher = FeatureHasher(n_features=hash_size, input_type=\"string\")\n",
    "    hashed_feature = feature_hasher.fit_transform(np.asanyarray(df.astype(str)))\n",
    "\n",
    "    return hashed_feature"
   ]
  },
  {
   "cell_type": "code",
   "execution_count": 30,
   "id": "553fccee6fb3ab6d",
   "metadata": {
    "ExecuteTime": {
     "end_time": "2024-12-28T07:52:45.692844Z",
     "start_time": "2024-12-28T07:52:44.455034Z"
    }
   },
   "outputs": [],
   "source": [
    "X_train_preprocessed = preprocess(df_train[feature_names])\n",
    "y_train = df_train[target]\n",
    "\n",
    "X_valid_preprocessed = preprocess(df_valid[feature_names])\n",
    "y_valid = df_valid[target]\n",
    "\n",
    "X_test_preprocessed = preprocess(df_test[feature_names])\n",
    "y_test = df_test[target]"
   ]
  },
  {
   "cell_type": "markdown",
   "id": "64a1a2b806c8af07",
   "metadata": {},
   "source": [
    "## Hyperparameter Tuning"
   ]
  },
  {
   "cell_type": "code",
   "execution_count": 31,
   "id": "a8f1a933db5ed497",
   "metadata": {
    "ExecuteTime": {
     "end_time": "2024-12-28T07:52:50.766224Z",
     "start_time": "2024-12-28T07:52:45.988456Z"
    }
   },
   "outputs": [
    {
     "name": "stdout",
     "output_type": "stream",
     "text": [
      "Grid Search | alpha: 1e-07, score: 0.6194887620831054\n",
      "Grid Search | alpha: 1e-06, score: 0.2283190584100272\n",
      "Grid Search | alpha: 1e-05, score: 0.17792005406068193\n",
      "Grid Search | alpha: 0.0001, score: 0.17412682861770432\n",
      "Grid Search | alpha: 0.001, score: 0.17528340365529074\n",
      "Grid Search | alpha: 0.01, score: 0.1803542360365469\n",
      "Grid Search | alpha: 0.1, score: 0.19350640095291843\n",
      "Best alpha: 0.0001, score: 0.17412682861770432\n"
     ]
    }
   ],
   "source": [
    "def grid_search(X_train, y_train, X_valid, y_valid) -> tuple[float, float]:\n",
    "    best_score = 1e10\n",
    "    best_alpha = 0.01\n",
    "\n",
    "    for alpha in [1e-7, 1e-6, 1e-5, 1e-4, 1e-3, 1e-2, 1e-1]:\n",
    "        model = SGDClassifier(loss=\"log_loss\", penalty=\"l2\", random_state=42, alpha=alpha)\n",
    "        model.fit(X_train, y_train)\n",
    "        y_pred = model.predict_proba(X_valid)[:, 1]\n",
    "        score = log_loss(y_true=y_valid, y_pred=y_pred)\n",
    "        print(f\"Grid Search | alpha: {alpha}, score: {score}\")\n",
    "\n",
    "        if score < best_score:\n",
    "            best_score = score\n",
    "            best_alpha = alpha\n",
    "    return best_alpha, best_score\n",
    "\n",
    "\n",
    "best_alpha, score = grid_search(X_train_preprocessed, y_train, X_valid_preprocessed, y_valid)\n",
    "print(f\"Best alpha: {best_alpha}, score: {score}\")"
   ]
  },
  {
   "cell_type": "code",
   "execution_count": 32,
   "id": "a4ebbb77173eb9b8",
   "metadata": {
    "ExecuteTime": {
     "end_time": "2024-12-28T07:52:56.002069Z",
     "start_time": "2024-12-28T07:52:50.773781Z"
    }
   },
   "outputs": [
    {
     "name": "stderr",
     "output_type": "stream",
     "text": [
      "[I 2025-07-06 22:44:01,354] A new study created in memory with name: no-name-071d3972-81f7-41e7-938c-762c862bf17e\n"
     ]
    },
    {
     "name": "stdout",
     "output_type": "stream",
     "text": [
      "Started Hyper Parameter (alpha) tuning.\n"
     ]
    },
    {
     "name": "stderr",
     "output_type": "stream",
     "text": [
      "[I 2025-07-06 22:44:02,383] Trial 0 finished with value: 0.1742377493606667 and parameters: {'alpha': 6.186704449674007e-05}. Best is trial 0 with value: 0.1742377493606667.\n",
      "[I 2025-07-06 22:44:03,636] Trial 1 finished with value: 0.174157719575121 and parameters: {'alpha': 7.26354336564059e-05}. Best is trial 1 with value: 0.174157719575121.\n",
      "[I 2025-07-06 22:44:05,046] Trial 2 finished with value: 0.17716658267168497 and parameters: {'alpha': 4.563689457407793e-05}. Best is trial 1 with value: 0.174157719575121.\n",
      "[I 2025-07-06 22:44:08,090] Trial 3 finished with value: 0.18859316959856653 and parameters: {'alpha': 3.4337802900321736e-06}. Best is trial 1 with value: 0.174157719575121.\n",
      "[I 2025-07-06 22:44:09,533] Trial 4 finished with value: 0.1834636813525383 and parameters: {'alpha': 2.0198745219188586e-05}. Best is trial 1 with value: 0.174157719575121.\n",
      "[I 2025-07-06 22:44:10,678] Trial 5 finished with value: 0.17914911460806346 and parameters: {'alpha': 2.7076300428101253e-05}. Best is trial 1 with value: 0.174157719575121.\n",
      "[I 2025-07-06 22:44:12,818] Trial 6 finished with value: 0.182625671199708 and parameters: {'alpha': 6.149144660538831e-06}. Best is trial 1 with value: 0.174157719575121.\n",
      "[I 2025-07-06 22:44:14,052] Trial 7 finished with value: 0.1743894581218917 and parameters: {'alpha': 4.976299877293663e-05}. Best is trial 1 with value: 0.174157719575121.\n",
      "[I 2025-07-06 22:44:15,340] Trial 8 finished with value: 0.17730262160117896 and parameters: {'alpha': 4.378571231584544e-05}. Best is trial 1 with value: 0.174157719575121.\n",
      "[I 2025-07-06 22:44:16,067] Trial 9 finished with value: 0.17468860611880657 and parameters: {'alpha': 9.489038031427745e-05}. Best is trial 1 with value: 0.174157719575121.\n"
     ]
    },
    {
     "name": "stdout",
     "output_type": "stream",
     "text": [
      "Best alpha: 7.26354336564059e-05, score: 0.174157719575121\n"
     ]
    }
   ],
   "source": [
    "def optuna_search(X_train, y_train, X_valid, y_valid) -> tuple[float, float]:\n",
    "    def objective(trial: optuna.trial._trial.Trial) -> float:\n",
    "        max_alpha = 0.0001\n",
    "        alpha = trial.suggest_float(\"alpha\", 0, max_alpha)\n",
    "        model = SGDClassifier(loss=\"log_loss\", penalty=\"l2\", random_state=42, alpha=alpha)\n",
    "\n",
    "        model.fit(X_train, y_train)\n",
    "        y_pred = model.predict_proba(X_valid)[:, 1]\n",
    "        score = log_loss(y_true=y_valid, y_pred=y_pred)\n",
    "\n",
    "        return float(score)\n",
    "\n",
    "    print(\"Started Hyper Parameter (alpha) tuning.\")\n",
    "    study = optuna.create_study(direction=\"minimize\")\n",
    "    study.optimize(objective, n_trials=10)\n",
    "    best_alpha = study.best_params[\"alpha\"]\n",
    "    best_score = study.best_value\n",
    "    return best_alpha, best_score\n",
    "\n",
    "\n",
    "best_alpha, score = optuna_search(X_train_preprocessed, y_train, X_valid_preprocessed, y_valid)\n",
    "\n",
    "print(f\"Best alpha: {best_alpha}, score: {score}\")"
   ]
  },
  {
   "cell_type": "markdown",
   "id": "6c0fea2dac1de8b8",
   "metadata": {},
   "source": [
    "## Train and Evaluate"
   ]
  },
  {
   "cell_type": "code",
   "execution_count": 27,
   "id": "de0bcc296977b295",
   "metadata": {
    "ExecuteTime": {
     "end_time": "2024-12-28T07:52:56.290924Z",
     "start_time": "2024-12-28T07:52:56.029261Z"
    }
   },
   "outputs": [
    {
     "name": "stdout",
     "output_type": "stream",
     "text": [
      "test logloss: 0.1793574669634133, AUC: 0.6942316797626567, calibration: 0.8544706131856455\n"
     ]
    }
   ],
   "source": [
    "best_model = SGDClassifier(loss=\"log_loss\", penalty=\"l2\", random_state=42, alpha=best_alpha)\n",
    "best_model.fit(X_train_preprocessed, y_train)\n",
    "\n",
    "y_pred = best_model.predict_proba(X_test_preprocessed)[:, 1]\n",
    "logloss = log_loss(y_true=y_test, y_pred=y_pred)\n",
    "roc_auc = roc_auc_score(y_true=y_test, y_score=y_pred)\n",
    "calibration = sum(y_pred) / sum(y_test)\n",
    "\n",
    "print(f\"test logloss: {logloss}, AUC: {roc_auc}, calibration: {calibration}\")"
   ]
  },
  {
   "cell_type": "code",
   "execution_count": 28,
   "id": "bd69b010b6fada99",
   "metadata": {
    "ExecuteTime": {
     "end_time": "2024-12-28T07:52:56.382166Z",
     "start_time": "2024-12-28T07:52:56.306800Z"
    }
   },
   "outputs": [
    {
     "data": {
      "image/png": "[encoded data removed]",
      "text/plain": [
       "<Figure size 600x600 with 1 Axes>"
      ]
     },
     "metadata": {},
     "output_type": "display_data"
    }
   ],
   "source": [
    "# ROC Curve\n",
    "def roc_auc_curve(y_true, y_pred):\n",
    "    [fpr, tpr, thr] = roc_curve(y_true, y_pred)\n",
    "\n",
    "    plt.figure(figsize=(6, 6))\n",
    "    plt.plot(fpr, tpr, label=\"SGDClassifier\")\n",
    "    plt.plot([0, 1], [0, 1], \"k--\", label=\"Random\")\n",
    "    plt.xlabel(\"False Positive Rate\")\n",
    "    plt.ylabel(\"True Positive Rate\")\n",
    "    plt.title(\"ROC Curve\")\n",
    "    plt.legend()\n",
    "    plt.show()\n",
    "\n",
    "\n",
    "roc_auc_curve(y_true=y_test, y_pred=y_pred)"
   ]
  },
  {
   "cell_type": "code",
   "execution_count": 34,
   "id": "f68d908d9add233f",
   "metadata": {
    "ExecuteTime": {
     "end_time": "2024-12-28T07:52:56.467578Z",
     "start_time": "2024-12-28T07:52:56.398044Z"
    }
   },
   "outputs": [
    {
     "data": {
      "image/png": "[encoded data removed]",
      "text/plain": [
       "<Figure size 600x600 with 1 Axes>"
      ]
     },
     "metadata": {},
     "output_type": "display_data"
    }
   ],
   "source": [
    "from sklearn.calibration import calibration_curve\n",
    "\n",
    "\n",
    "def plot_calibration(y_true, y_pred, n_bins=50):\n",
    "    prob_true, prob_pred = calibration_curve(y_true, y_pred, n_bins=n_bins)\n",
    "\n",
    "    plt.figure(figsize=(6, 6))\n",
    "\n",
    "    plt.plot([0, 0.5], [0, 0.5], \"k:\", label=\"Perfectly calibrated\")\n",
    "    plt.plot(prob_pred, prob_true, \"s-\", label=\"SGD Classifier\")\n",
    "\n",
    "    plt.xlabel(\"Mean predicted probability\")\n",
    "    plt.ylabel(\"Fraction of positives\")\n",
    "    plt.title(\"Calibration Curve\")\n",
    "    plt.xlim(0, 0.5)\n",
    "    plt.ylim(0, 0.5)\n",
    "    plt.legend(loc=\"best\")\n",
    "\n",
    "    plt.tight_layout()\n",
    "    plt.show()\n",
    "\n",
    "\n",
    "plot_calibration(y_true=y_test, y_pred=y_pred)"
   ]
  },
  {
   "cell_type": "code",
   "execution_count": 35,
   "id": "f967dfac9c9ad44b",
   "metadata": {
    "ExecuteTime": {
     "end_time": "2024-12-28T07:52:56.624479Z",
     "start_time": "2024-12-28T07:52:56.481682Z"
    }
   },
   "outputs": [
    {
     "data": {
      "image/png": "[encoded data removed]",
      "text/plain": [
       "<Figure size 1000x600 with 1 Axes>"
      ]
     },
     "metadata": {},
     "output_type": "display_data"
    }
   ],
   "source": [
    "# Distribution of prediction value\n",
    "\n",
    "\n",
    "def plot_distribution(y_true, y_pred):\n",
    "    fig = plt.figure(figsize=(10, 6))\n",
    "    df_hist = pd.DataFrame({\"y_pred\": y_pred, \"is_click\": y_true})\n",
    "    sns.histplot(data=df_hist, x=\"y_pred\", hue=\"is_click\", bins=100)\n",
    "    plt.title(\"Distribution of prediction value\")\n",
    "    plt.show()\n",
    "\n",
    "\n",
    "plot_distribution(y_true=y_test, y_pred=y_pred)"
   ]
  },
  {
   "cell_type": "code",
   "execution_count": 33,
   "id": "38e0e173e04cc05",
   "metadata": {
    "ExecuteTime": {
     "end_time": "2024-12-28T07:53:00.844386Z",
     "start_time": "2024-12-28T07:52:56.638816Z"
    }
   },
   "outputs": [
    {
     "data": {
      "image/png": "[encoded data removed]",
      "text/plain": [
       "<Figure size 1000x600 with 1 Axes>"
      ]
     },
     "metadata": {},
     "output_type": "display_data"
    }
   ],
   "source": [
    "# Calculate permutation importance\n",
    "# Code reference: https://www.kaggle.com/competitions/ieee-fraud-detection/discussion/107877\n",
    "\n",
    "\n",
    "def plot_permutation_importance(\n",
    "    df_test: pd.DataFrame,\n",
    "    y_test: np.ndarray,\n",
    "    model: SGDClassifier,\n",
    "    feature_names: list[str],\n",
    ") -> dict[str, float]:\n",
    "    df_test_perm = df_test.copy()\n",
    "\n",
    "    permutation_importance = {}\n",
    "    y_pred = model.predict_proba(X_test_preprocessed)[:, 1]\n",
    "    baseline = roc_auc_score(y_test, y_pred)\n",
    "    for col in feature_names:\n",
    "        value = df_test[col]\n",
    "        df_test_perm[col] = np.random.permutation(df_test_perm[col].values)\n",
    "        X_test_perm_preprocessed = preprocess(df_test_perm[feature_names])\n",
    "        y_pred = best_model.predict_proba(X_test_perm_preprocessed)[:, 1]\n",
    "        permutation_importance[col] = baseline - roc_auc_score(y_test, y_pred)\n",
    "        df_test_perm[col] = value\n",
    "\n",
    "    # DataFrameに変換してソート\n",
    "    df = pd.DataFrame(list(permutation_importance.items()), columns=[\"Feature\", \"Importance\"])\n",
    "    df = df.sort_values(\"Importance\")\n",
    "    \n",
    "    # 棒グラフの作成\n",
    "    plt.figure(figsize=(10, 6))\n",
    "    plt.barh(df[\"Feature\"], df[\"Importance\"])\n",
    "    plt.title(\"Feature Importance\")\n",
    "    plt.tight_layout()\n",
    "    plt.show()\n",
    "\n",
    "plot_permutation_importance(df_test, y_test, best_model, feature_names)"
   ]
  },
  {
   "cell_type": "markdown",
   "id": "9999de85ae53f6bb",
   "metadata": {},
   "source": []
  },
  {
   "cell_type": "code",
   "execution_count": null,
   "id": "dfb53ab771ce934d",
   "metadata": {
    "ExecuteTime": {
     "end_time": "2024-12-28T07:53:00.959901Z",
     "start_time": "2024-12-28T07:53:00.958600Z"
    }
   },
   "outputs": [],
   "source": []
  },
  {
   "cell_type": "markdown",
   "id": "322bca20e88fb84d",
   "metadata": {},
   "source": [
    "## LightGBM"
   ]
  },
  {
   "cell_type": "code",
   "execution_count": 34,
   "id": "d94318554f3d0ade",
   "metadata": {
    "ExecuteTime": {
     "end_time": "2024-12-28T08:02:30.008082Z",
     "start_time": "2024-12-28T08:02:30.006152Z"
    }
   },
   "outputs": [],
   "source": [
    "feature_names = [\n",
    "    \"user_id\",\n",
    "    \"app_code\",\n",
    "    \"os_version\",\n",
    "    \"is_4G\",\n",
    "    \"previous_impression_count\",\n",
    "    \"previous_view_count\",\n",
    "    \"impression_hour\",\n",
    "    \"impression_day\",\n",
    "    \"impression_weekday\",\n",
    "    \"item_id\",\n",
    "    \"device_type\",\n",
    "    \"item_price\",\n",
    "    \"category_1\",\n",
    "    \"category_2\",\n",
    "    \"category_3\",\n",
    "    \"product_type\",\n",
    "]\n",
    "\n",
    "category_columns = [\n",
    "    \"user_id\",\n",
    "    \"app_code\",\n",
    "    \"os_version\",\n",
    "    \"impression_hour\",\n",
    "    \"impression_day\",\n",
    "    \"impression_weekday\",\n",
    "    \"item_id\",\n",
    "    \"device_type\",\n",
    "    \"category_1\",\n",
    "    \"category_2\",\n",
    "    \"category_3\",\n",
    "    \"product_type\",\n",
    "]\n"
   ]
  },
  {
   "cell_type": "code",
   "execution_count": 35,
   "id": "f627a5270778b9ee",
   "metadata": {
    "ExecuteTime": {
     "end_time": "2024-12-28T08:02:30.219982Z",
     "start_time": "2024-12-28T08:02:30.182314Z"
    }
   },
   "outputs": [],
   "source": [
    "for col in category_columns:\n",
    "    df_train[col] = df_train[col].astype(\"category\")\n",
    "    df_valid[col] = df_valid[col].astype(\"category\")\n",
    "    df_test[col] = df_test[col].astype(\"category\")"
   ]
  },
  {
   "cell_type": "code",
   "execution_count": 36,
   "id": "7b335a85961c9315",
   "metadata": {
    "ExecuteTime": {
     "end_time": "2024-12-28T08:05:36.242025Z",
     "start_time": "2024-12-28T08:05:36.237090Z"
    }
   },
   "outputs": [],
   "source": [
    "import lightgbm as lgb\n",
    "\n",
    "train_data = lgb.Dataset(\n",
    "    df_train[feature_names],\n",
    "    label=y_train,\n",
    "    # feature_name=feature_names,\n",
    "    categorical_feature=category_columns,\n",
    ")\n",
    "valid_data = lgb.Dataset(\n",
    "    df_valid[feature_names],\n",
    "    label=y_valid,\n",
    "    # feature_name=feature_names,\n",
    "    categorical_feature=category_columns,\n",
    ")"
   ]
  },
  {
   "cell_type": "code",
   "execution_count": 37,
   "id": "2b52edae9279418a",
   "metadata": {
    "ExecuteTime": {
     "end_time": "2024-12-28T08:05:37.332149Z",
     "start_time": "2024-12-28T08:05:37.092628Z"
    }
   },
   "outputs": [
    {
     "name": "stdout",
     "output_type": "stream",
     "text": [
      "[LightGBM] [Warning] Categorical features with more bins than the configured maximum bin number found.\n",
      "[LightGBM] [Warning] For categorical features, max_bin and max_bin_by_feature may be ignored with a large number of categories.\n",
      "[LightGBM] [Info] Number of positive: 7758, number of negative: 163320\n",
      "[LightGBM] [Info] Auto-choosing row-wise multi-threading, the overhead of testing was 0.017789 seconds.\n",
      "You can set `force_row_wise=true` to remove the overhead.\n",
      "And if memory is not enough, you can set `force_col_wise=true`.\n",
      "[LightGBM] [Info] Total Bins 26294\n",
      "[LightGBM] [Info] Number of data points in the train set: 171078, number of used features: 16\n",
      "[LightGBM] [Info] [binary:BoostFromScore]: pavg=0.045348 -> initscore=-3.046987\n",
      "[LightGBM] [Info] Start training from score -3.046987\n"
     ]
    }
   ],
   "source": [
    "param = {\"num_leaves\": 31, \"objective\": \"binary\"}\n",
    "param[\"metric\"] = \"auc\"\n",
    "num_round = 10\n",
    "model = lgb.train(param, train_data, num_round, valid_sets=[valid_data])"
   ]
  },
  {
   "cell_type": "code",
   "execution_count": 38,
   "id": "569ef6b70625a4c8",
   "metadata": {
    "ExecuteTime": {
     "end_time": "2024-12-28T08:05:39.017095Z",
     "start_time": "2024-12-28T08:05:39.010175Z"
    }
   },
   "outputs": [
    {
     "data": {
      "text/html": [
       "<div>\n",
       "<style scoped>\n",
       "    .dataframe tbody tr th:only-of-type {\n",
       "        vertical-align: middle;\n",
       "    }\n",
       "\n",
       "    .dataframe tbody tr th {\n",
       "        vertical-align: top;\n",
       "    }\n",
       "\n",
       "    .dataframe thead th {\n",
       "        text-align: right;\n",
       "    }\n",
       "</style>\n",
       "<table border=\"1\" class=\"dataframe\">\n",
       "  <thead>\n",
       "    <tr style=\"text-align: right;\">\n",
       "      <th></th>\n",
       "      <th>impression_id</th>\n",
       "      <th>logged_at</th>\n",
       "      <th>user_id</th>\n",
       "      <th>app_code</th>\n",
       "      <th>os_version</th>\n",
       "      <th>is_4G</th>\n",
       "      <th>is_click</th>\n",
       "      <th>previous_impression_count</th>\n",
       "      <th>previous_view_count</th>\n",
       "      <th>item_id</th>\n",
       "      <th>device_type</th>\n",
       "      <th>impression_hour</th>\n",
       "      <th>impression_day</th>\n",
       "      <th>impression_weekday</th>\n",
       "      <th>item_price</th>\n",
       "      <th>category_1</th>\n",
       "      <th>category_2</th>\n",
       "      <th>category_3</th>\n",
       "      <th>product_type</th>\n",
       "    </tr>\n",
       "  </thead>\n",
       "  <tbody>\n",
       "    <tr>\n",
       "      <th>0</th>\n",
       "      <td>c4ca4238a0b923820dcc509a6f75849b</td>\n",
       "      <td>2018-11-15 00:00:00</td>\n",
       "      <td>87862</td>\n",
       "      <td>422</td>\n",
       "      <td>old</td>\n",
       "      <td>0</td>\n",
       "      <td>0</td>\n",
       "      <td>0</td>\n",
       "      <td>-1</td>\n",
       "      <td>-1</td>\n",
       "      <td>null</td>\n",
       "      <td>0</td>\n",
       "      <td>15</td>\n",
       "      <td>3</td>\n",
       "      <td>-1.0</td>\n",
       "      <td>-1</td>\n",
       "      <td>-1</td>\n",
       "      <td>-1</td>\n",
       "      <td>-1</td>\n",
       "    </tr>\n",
       "    <tr>\n",
       "      <th>19670</th>\n",
       "      <td>c81e728d9d4c2f636f067f89cc14862c</td>\n",
       "      <td>2018-11-15 00:00:00</td>\n",
       "      <td>89464</td>\n",
       "      <td>129</td>\n",
       "      <td>intermediate</td>\n",
       "      <td>0</td>\n",
       "      <td>0</td>\n",
       "      <td>0</td>\n",
       "      <td>109</td>\n",
       "      <td>30152</td>\n",
       "      <td>android</td>\n",
       "      <td>0</td>\n",
       "      <td>15</td>\n",
       "      <td>3</td>\n",
       "      <td>2227.0</td>\n",
       "      <td>4</td>\n",
       "      <td>38</td>\n",
       "      <td>62</td>\n",
       "      <td>2106</td>\n",
       "    </tr>\n",
       "    <tr>\n",
       "      <th>14938</th>\n",
       "      <td>eccbc87e4b5ce2fe28308fd9f2a7baf3</td>\n",
       "      <td>2018-11-15 00:00:00</td>\n",
       "      <td>58442</td>\n",
       "      <td>127</td>\n",
       "      <td>latest</td>\n",
       "      <td>0</td>\n",
       "      <td>0</td>\n",
       "      <td>0</td>\n",
       "      <td>14</td>\n",
       "      <td>73224</td>\n",
       "      <td>android</td>\n",
       "      <td>0</td>\n",
       "      <td>15</td>\n",
       "      <td>3</td>\n",
       "      <td>21696.0</td>\n",
       "      <td>1</td>\n",
       "      <td>64</td>\n",
       "      <td>263</td>\n",
       "      <td>5164</td>\n",
       "    </tr>\n",
       "    <tr>\n",
       "      <th>1397</th>\n",
       "      <td>a87ff679a2f3e71d9181a67b7542122c</td>\n",
       "      <td>2018-11-15 00:00:00</td>\n",
       "      <td>4238</td>\n",
       "      <td>371</td>\n",
       "      <td>latest</td>\n",
       "      <td>0</td>\n",
       "      <td>0</td>\n",
       "      <td>0</td>\n",
       "      <td>16</td>\n",
       "      <td>72955</td>\n",
       "      <td>android</td>\n",
       "      <td>0</td>\n",
       "      <td>15</td>\n",
       "      <td>3</td>\n",
       "      <td>2344.0</td>\n",
       "      <td>0</td>\n",
       "      <td>6</td>\n",
       "      <td>145</td>\n",
       "      <td>2056</td>\n",
       "    </tr>\n",
       "    <tr>\n",
       "      <th>1</th>\n",
       "      <td>45c48cce2e2d7fbdea1afc51c7c6ad26</td>\n",
       "      <td>2018-11-15 00:01:00</td>\n",
       "      <td>63410</td>\n",
       "      <td>467</td>\n",
       "      <td>latest</td>\n",
       "      <td>1</td>\n",
       "      <td>1</td>\n",
       "      <td>0</td>\n",
       "      <td>-1</td>\n",
       "      <td>-1</td>\n",
       "      <td>null</td>\n",
       "      <td>0</td>\n",
       "      <td>15</td>\n",
       "      <td>3</td>\n",
       "      <td>-1.0</td>\n",
       "      <td>-1</td>\n",
       "      <td>-1</td>\n",
       "      <td>-1</td>\n",
       "      <td>-1</td>\n",
       "    </tr>\n",
       "    <tr>\n",
       "      <th>...</th>\n",
       "      <td>...</td>\n",
       "      <td>...</td>\n",
       "      <td>...</td>\n",
       "      <td>...</td>\n",
       "      <td>...</td>\n",
       "      <td>...</td>\n",
       "      <td>...</td>\n",
       "      <td>...</td>\n",
       "      <td>...</td>\n",
       "      <td>...</td>\n",
       "      <td>...</td>\n",
       "      <td>...</td>\n",
       "      <td>...</td>\n",
       "      <td>...</td>\n",
       "      <td>...</td>\n",
       "      <td>...</td>\n",
       "      <td>...</td>\n",
       "      <td>...</td>\n",
       "      <td>...</td>\n",
       "    </tr>\n",
       "    <tr>\n",
       "      <th>147448</th>\n",
       "      <td>52e10b7ec40d26c40a4a2ac4e2037760</td>\n",
       "      <td>2018-12-04 07:08:00</td>\n",
       "      <td>21639</td>\n",
       "      <td>385</td>\n",
       "      <td>intermediate</td>\n",
       "      <td>1</td>\n",
       "      <td>0</td>\n",
       "      <td>19</td>\n",
       "      <td>13</td>\n",
       "      <td>41416</td>\n",
       "      <td>android</td>\n",
       "      <td>7</td>\n",
       "      <td>4</td>\n",
       "      <td>1</td>\n",
       "      <td>50.0</td>\n",
       "      <td>13</td>\n",
       "      <td>58</td>\n",
       "      <td>102</td>\n",
       "      <td>2455</td>\n",
       "    </tr>\n",
       "    <tr>\n",
       "      <th>149610</th>\n",
       "      <td>664606dc5edf7097e77bc51f669c39b3</td>\n",
       "      <td>2018-12-04 07:08:00</td>\n",
       "      <td>60582</td>\n",
       "      <td>44</td>\n",
       "      <td>intermediate</td>\n",
       "      <td>1</td>\n",
       "      <td>0</td>\n",
       "      <td>2</td>\n",
       "      <td>-1</td>\n",
       "      <td>-1</td>\n",
       "      <td>null</td>\n",
       "      <td>7</td>\n",
       "      <td>4</td>\n",
       "      <td>1</td>\n",
       "      <td>-1.0</td>\n",
       "      <td>-1</td>\n",
       "      <td>-1</td>\n",
       "      <td>-1</td>\n",
       "      <td>-1</td>\n",
       "    </tr>\n",
       "    <tr>\n",
       "      <th>152039</th>\n",
       "      <td>7b3754b572a2c48b3291ad2dc6e51ae7</td>\n",
       "      <td>2018-12-04 07:09:00</td>\n",
       "      <td>16881</td>\n",
       "      <td>207</td>\n",
       "      <td>latest</td>\n",
       "      <td>0</td>\n",
       "      <td>0</td>\n",
       "      <td>6</td>\n",
       "      <td>1</td>\n",
       "      <td>73972</td>\n",
       "      <td>android</td>\n",
       "      <td>7</td>\n",
       "      <td>4</td>\n",
       "      <td>1</td>\n",
       "      <td>2227.0</td>\n",
       "      <td>12</td>\n",
       "      <td>57</td>\n",
       "      <td>44</td>\n",
       "      <td>907</td>\n",
       "    </tr>\n",
       "    <tr>\n",
       "      <th>145464</th>\n",
       "      <td>cbcfc9330a218e70636aa232febdc7b3</td>\n",
       "      <td>2018-12-04 07:09:00</td>\n",
       "      <td>57478</td>\n",
       "      <td>207</td>\n",
       "      <td>latest</td>\n",
       "      <td>0</td>\n",
       "      <td>0</td>\n",
       "      <td>1</td>\n",
       "      <td>6</td>\n",
       "      <td>116661</td>\n",
       "      <td>android</td>\n",
       "      <td>7</td>\n",
       "      <td>4</td>\n",
       "      <td>1</td>\n",
       "      <td>832.0</td>\n",
       "      <td>11</td>\n",
       "      <td>51</td>\n",
       "      <td>181</td>\n",
       "      <td>6764</td>\n",
       "    </tr>\n",
       "    <tr>\n",
       "      <th>149611</th>\n",
       "      <td>6448440f1a204ef977a571e36c60d8b5</td>\n",
       "      <td>2018-12-04 07:09:00</td>\n",
       "      <td>41036</td>\n",
       "      <td>385</td>\n",
       "      <td>latest</td>\n",
       "      <td>0</td>\n",
       "      <td>0</td>\n",
       "      <td>20</td>\n",
       "      <td>5</td>\n",
       "      <td>114039</td>\n",
       "      <td>android</td>\n",
       "      <td>7</td>\n",
       "      <td>4</td>\n",
       "      <td>1</td>\n",
       "      <td>1529.0</td>\n",
       "      <td>13</td>\n",
       "      <td>78</td>\n",
       "      <td>134</td>\n",
       "      <td>2466</td>\n",
       "    </tr>\n",
       "  </tbody>\n",
       "</table>\n",
       "<p>171078 rows × 19 columns</p>\n",
       "</div>"
      ],
      "text/plain": [
       "                           impression_id           logged_at user_id app_code  \\\n",
       "0       c4ca4238a0b923820dcc509a6f75849b 2018-11-15 00:00:00   87862      422   \n",
       "19670   c81e728d9d4c2f636f067f89cc14862c 2018-11-15 00:00:00   89464      129   \n",
       "14938   eccbc87e4b5ce2fe28308fd9f2a7baf3 2018-11-15 00:00:00   58442      127   \n",
       "1397    a87ff679a2f3e71d9181a67b7542122c 2018-11-15 00:00:00    4238      371   \n",
       "1       45c48cce2e2d7fbdea1afc51c7c6ad26 2018-11-15 00:01:00   63410      467   \n",
       "...                                  ...                 ...     ...      ...   \n",
       "147448  52e10b7ec40d26c40a4a2ac4e2037760 2018-12-04 07:08:00   21639      385   \n",
       "149610  664606dc5edf7097e77bc51f669c39b3 2018-12-04 07:08:00   60582       44   \n",
       "152039  7b3754b572a2c48b3291ad2dc6e51ae7 2018-12-04 07:09:00   16881      207   \n",
       "145464  cbcfc9330a218e70636aa232febdc7b3 2018-12-04 07:09:00   57478      207   \n",
       "149611  6448440f1a204ef977a571e36c60d8b5 2018-12-04 07:09:00   41036      385   \n",
       "\n",
       "          os_version  is_4G  is_click  previous_impression_count  \\\n",
       "0                old      0         0                          0   \n",
       "19670   intermediate      0         0                          0   \n",
       "14938         latest      0         0                          0   \n",
       "1397          latest      0         0                          0   \n",
       "1             latest      1         1                          0   \n",
       "...              ...    ...       ...                        ...   \n",
       "147448  intermediate      1         0                         19   \n",
       "149610  intermediate      1         0                          2   \n",
       "152039        latest      0         0                          6   \n",
       "145464        latest      0         0                          1   \n",
       "149611        latest      0         0                         20   \n",
       "\n",
       "        previous_view_count item_id device_type impression_hour  \\\n",
       "0                        -1      -1        null               0   \n",
       "19670                   109   30152     android               0   \n",
       "14938                    14   73224     android               0   \n",
       "1397                     16   72955     android               0   \n",
       "1                        -1      -1        null               0   \n",
       "...                     ...     ...         ...             ...   \n",
       "147448                   13   41416     android               7   \n",
       "149610                   -1      -1        null               7   \n",
       "152039                    1   73972     android               7   \n",
       "145464                    6  116661     android               7   \n",
       "149611                    5  114039     android               7   \n",
       "\n",
       "       impression_day impression_weekday  item_price category_1 category_2  \\\n",
       "0                  15                  3        -1.0         -1         -1   \n",
       "19670              15                  3      2227.0          4         38   \n",
       "14938              15                  3     21696.0          1         64   \n",
       "1397               15                  3      2344.0          0          6   \n",
       "1                  15                  3        -1.0         -1         -1   \n",
       "...               ...                ...         ...        ...        ...   \n",
       "147448              4                  1        50.0         13         58   \n",
       "149610              4                  1        -1.0         -1         -1   \n",
       "152039              4                  1      2227.0         12         57   \n",
       "145464              4                  1       832.0         11         51   \n",
       "149611              4                  1      1529.0         13         78   \n",
       "\n",
       "       category_3 product_type  \n",
       "0              -1           -1  \n",
       "19670          62         2106  \n",
       "14938         263         5164  \n",
       "1397          145         2056  \n",
       "1              -1           -1  \n",
       "...           ...          ...  \n",
       "147448        102         2455  \n",
       "149610         -1           -1  \n",
       "152039         44          907  \n",
       "145464        181         6764  \n",
       "149611        134         2466  \n",
       "\n",
       "[171078 rows x 19 columns]"
      ]
     },
     "execution_count": 38,
     "metadata": {},
     "output_type": "execute_result"
    }
   ],
   "source": [
    "df_train"
   ]
  },
  {
   "cell_type": "code",
   "execution_count": 39,
   "id": "99d973aea2f52778",
   "metadata": {
    "ExecuteTime": {
     "end_time": "2024-12-28T08:05:39.462102Z",
     "start_time": "2024-12-28T08:05:39.436763Z"
    }
   },
   "outputs": [],
   "source": [
    "y_pred = model.predict(df_test[feature_names])"
   ]
  },
  {
   "cell_type": "code",
   "execution_count": 40,
   "id": "1903c768715cd24",
   "metadata": {
    "ExecuteTime": {
     "end_time": "2024-12-28T08:05:39.819009Z",
     "start_time": "2024-12-28T08:05:39.809883Z"
    }
   },
   "outputs": [
    {
     "name": "stdout",
     "output_type": "stream",
     "text": [
      "test logloss: 0.17942243978168906, AUC: 0.6974833352913389\n"
     ]
    }
   ],
   "source": [
    "logloss = log_loss(y_true=y_test, y_pred=y_pred)\n",
    "roc_auc = roc_auc_score(y_true=y_test, y_score=y_pred)\n",
    "\n",
    "print(f\"test logloss: {logloss}, AUC: {roc_auc}\")"
   ]
  },
  {
   "cell_type": "code",
   "execution_count": null,
   "id": "e6fdb54dfe04e5ca",
   "metadata": {
    "ExecuteTime": {
     "end_time": "2024-12-28T08:05:40.046288Z",
     "start_time": "2024-12-28T08:05:40.044589Z"
    }
   },
   "outputs": [],
   "source": []
  },
  {
   "cell_type": "code",
   "execution_count": null,
   "id": "10d7068479bbc330",
   "metadata": {},
   "outputs": [],
   "source": []
  }
 ],
 "metadata": {
  "kernelspec": {
   "display_name": "Python 3 (ipykernel)",
   "language": "python",
   "name": "python3"
  },
  "language_info": {
   "codemirror_mode": {
    "name": "ipython",
    "version": 3
   },
   "file_extension": ".py",
   "mimetype": "text/x-python",
   "name": "python",
   "nbconvert_exporter": "python",
   "pygments_lexer": "ipython3",
   "version": "3.12.5"
  }
 },
 "nbformat": 4,
 "nbformat_minor": 5
}
